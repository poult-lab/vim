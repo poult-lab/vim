{
 "cells": [
  {
   "cell_type": "code",
   "execution_count": 1,
   "metadata": {},
   "outputs": [
    {
     "name": "stdout",
     "output_type": "stream",
     "text": [
      "2.2.1\n",
      "11.8\n",
      "True\n",
      "/usr/local/cuda-11.8\n",
      "None\n"
     ]
    }
   ],
   "source": [
    "import torch \n",
    "import os\n",
    "\n",
    "from torch.utils.cpp_extension import (\n",
    "    BuildExtension,\n",
    "    CppExtension,\n",
    "    CUDAExtension,\n",
    "    CUDA_HOME,\n",
    ")\n",
    "\n",
    "print(torch.__version__) # \n",
    "print(torch.version.cuda) #\n",
    "print(torch.cuda.is_available()) \n",
    "print(CUDA_HOME)\n",
    "\n",
    "\n",
    "print(os.environ.get('CUDA_PATH'))"
   ]
  },
  {
   "cell_type": "code",
   "execution_count": 3,
   "metadata": {},
   "outputs": [
    {
     "ename": "SyntaxError",
     "evalue": "invalid decimal literal (2971629459.py, line 2)",
     "output_type": "error",
     "traceback": [
      "\u001b[0;36m  Cell \u001b[0;32mIn[3], line 2\u001b[0;36m\u001b[0m\n\u001b[0;31m    from mamba-1p1p1 import mamba_ssm\u001b[0m\n\u001b[0m               ^\u001b[0m\n\u001b[0;31mSyntaxError\u001b[0m\u001b[0;31m:\u001b[0m invalid decimal literal\n"
     ]
    }
   ],
   "source": [
    "import torch\n",
    "from mamba-1p1p1 import mamba_ssm\n",
    "\n",
    "# from mamba-1p1p1/mamba_ssm import Mamba\n",
    "\n",
    "\n",
    "batch, length, dim = 2, 64, 16\n",
    "print(torch.cuda.is_available())\n",
    "x = torch.randn(batch, length, dim).to(\"cuda\")\n",
    "model = mamba_ssm.Mamba(\n",
    "    # This module uses roughly 3 * expand * d_model^2 parameters\n",
    "    d_model=dim, # Model dimension d_model\n",
    "    d_state=16,  # SSM state expansion factor\n",
    "    d_conv=4,    # Local convolution width\n",
    "    expand=2,    # Block expansion factor\n",
    ").to(\"cuda\")\n",
    "y = model(x)\n",
    "assert y.shape == x.shape"
   ]
  }
 ],
 "metadata": {
  "kernelspec": {
   "display_name": "vim",
   "language": "python",
   "name": "python3"
  },
  "language_info": {
   "codemirror_mode": {
    "name": "ipython",
    "version": 3
   },
   "file_extension": ".py",
   "mimetype": "text/x-python",
   "name": "python",
   "nbconvert_exporter": "python",
   "pygments_lexer": "ipython3",
   "version": "3.10.13"
  }
 },
 "nbformat": 4,
 "nbformat_minor": 2
}
